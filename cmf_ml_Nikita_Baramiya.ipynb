{
 "cells": [
  {
   "cell_type": "markdown",
   "metadata": {},
   "source": [
    "## Nikita Baramiya, MSU, Faculty of Economics"
   ]
  },
  {
   "cell_type": "code",
   "execution_count": 1,
   "metadata": {},
   "outputs": [],
   "source": [
    "import numpy as np\n",
    "import pandas as pd\n",
    "\n",
    "from tqdm.notebook import tqdm\n",
    "\n",
    "import matplotlib.pyplot as plt\n",
    "import seaborn as sns\n",
    "\n",
    "from sklearn.linear_model import LogisticRegressionCV\n",
    "from catboost import CatBoostClassifier\n",
    "\n",
    "from sklearn.model_selection import train_test_split\n",
    "from sklearn.preprocessing import OneHotEncoder\n",
    "from sklearn.metrics import roc_auc_score"
   ]
  },
  {
   "cell_type": "code",
   "execution_count": 2,
   "metadata": {
    "scrolled": true
   },
   "outputs": [
    {
     "data": {
      "text/plain": [
       "((105109, 10), (105109, 1), (38876, 11), (38876, 2))"
      ]
     },
     "execution_count": 2,
     "metadata": {},
     "output_type": "execute_result"
    }
   ],
   "source": [
    "X_train, y_train = pd.read_csv('X_train.csv', header=0), pd.read_csv('y_train.csv', header=0)\n",
    "X_test, y_test_samp = pd.read_csv('X_test.csv', header=0), pd.read_csv('y_test_sample.csv', header=0)\n",
    "X_train.shape, y_train.shape, X_test.shape, y_test_samp.shape"
   ]
  },
  {
   "cell_type": "code",
   "execution_count": 3,
   "metadata": {
    "scrolled": true
   },
   "outputs": [
    {
     "data": {
      "text/html": [
       "<div>\n",
       "<style scoped>\n",
       "    .dataframe tbody tr th:only-of-type {\n",
       "        vertical-align: middle;\n",
       "    }\n",
       "\n",
       "    .dataframe tbody tr th {\n",
       "        vertical-align: top;\n",
       "    }\n",
       "\n",
       "    .dataframe thead th {\n",
       "        text-align: right;\n",
       "    }\n",
       "</style>\n",
       "<table border=\"1\" class=\"dataframe\">\n",
       "  <thead>\n",
       "    <tr style=\"text-align: right;\">\n",
       "      <th></th>\n",
       "      <th>credit_card_utilization</th>\n",
       "      <th>age</th>\n",
       "      <th>overdue_30_59_days</th>\n",
       "      <th>debt_to_income</th>\n",
       "      <th>monthly_income</th>\n",
       "      <th>credits_loans</th>\n",
       "      <th>overdue__more_than_90_days</th>\n",
       "      <th>mortgage_loans</th>\n",
       "      <th>overdue_60_89_days</th>\n",
       "      <th>family_members</th>\n",
       "    </tr>\n",
       "  </thead>\n",
       "  <tbody>\n",
       "    <tr>\n",
       "      <th>0</th>\n",
       "      <td>0.000000</td>\n",
       "      <td>56</td>\n",
       "      <td>0</td>\n",
       "      <td>0.504328</td>\n",
       "      <td>6823.894458</td>\n",
       "      <td>9</td>\n",
       "      <td>0</td>\n",
       "      <td>1</td>\n",
       "      <td>0</td>\n",
       "      <td>5.0</td>\n",
       "    </tr>\n",
       "    <tr>\n",
       "      <th>1</th>\n",
       "      <td>0.170659</td>\n",
       "      <td>45</td>\n",
       "      <td>1</td>\n",
       "      <td>2.405860</td>\n",
       "      <td>356.580765</td>\n",
       "      <td>5</td>\n",
       "      <td>0</td>\n",
       "      <td>0</td>\n",
       "      <td>0</td>\n",
       "      <td>0.0</td>\n",
       "    </tr>\n",
       "    <tr>\n",
       "      <th>2</th>\n",
       "      <td>0.342176</td>\n",
       "      <td>75</td>\n",
       "      <td>1</td>\n",
       "      <td>0.445066</td>\n",
       "      <td>20349.895825</td>\n",
       "      <td>9</td>\n",
       "      <td>0</td>\n",
       "      <td>3</td>\n",
       "      <td>0</td>\n",
       "      <td>0.0</td>\n",
       "    </tr>\n",
       "    <tr>\n",
       "      <th>3</th>\n",
       "      <td>0.046219</td>\n",
       "      <td>50</td>\n",
       "      <td>0</td>\n",
       "      <td>0.814508</td>\n",
       "      <td>2894.368968</td>\n",
       "      <td>12</td>\n",
       "      <td>0</td>\n",
       "      <td>1</td>\n",
       "      <td>0</td>\n",
       "      <td>3.0</td>\n",
       "    </tr>\n",
       "    <tr>\n",
       "      <th>4</th>\n",
       "      <td>0.679556</td>\n",
       "      <td>58</td>\n",
       "      <td>0</td>\n",
       "      <td>0.390311</td>\n",
       "      <td>24833.227614</td>\n",
       "      <td>15</td>\n",
       "      <td>0</td>\n",
       "      <td>4</td>\n",
       "      <td>0</td>\n",
       "      <td>2.0</td>\n",
       "    </tr>\n",
       "  </tbody>\n",
       "</table>\n",
       "</div>"
      ],
      "text/plain": [
       "   credit_card_utilization  age  overdue_30_59_days  debt_to_income  \\\n",
       "0                 0.000000   56                   0        0.504328   \n",
       "1                 0.170659   45                   1        2.405860   \n",
       "2                 0.342176   75                   1        0.445066   \n",
       "3                 0.046219   50                   0        0.814508   \n",
       "4                 0.679556   58                   0        0.390311   \n",
       "\n",
       "   monthly_income  credits_loans  overdue__more_than_90_days  mortgage_loans  \\\n",
       "0     6823.894458              9                           0               1   \n",
       "1      356.580765              5                           0               0   \n",
       "2    20349.895825              9                           0               3   \n",
       "3     2894.368968             12                           0               1   \n",
       "4    24833.227614             15                           0               4   \n",
       "\n",
       "   overdue_60_89_days  family_members  \n",
       "0                   0             5.0  \n",
       "1                   0             0.0  \n",
       "2                   0             0.0  \n",
       "3                   0             3.0  \n",
       "4                   0             2.0  "
      ]
     },
     "execution_count": 3,
     "metadata": {},
     "output_type": "execute_result"
    }
   ],
   "source": [
    "X_train.head()"
   ]
  },
  {
   "cell_type": "markdown",
   "metadata": {},
   "source": [
    "# EDA + Feature engineering"
   ]
  },
  {
   "cell_type": "markdown",
   "metadata": {},
   "source": [
    "#### Features in files X_train and X_test:\n",
    "- age — возраст заемщика\n",
    "\n",
    "- family_members — количество членов в семье заемщика\n",
    "\n",
    "- credit_card_utilization — отношение баланса на счету к лимиту по кредиту\n",
    "\n",
    "- overdue_30_59_days — число предыдущих просрочек выплат по кредиту от 30 до 59 дней\n",
    "\n",
    "- overdue_60_89_days — число предыдущих просрочек выплат по кредиту от 60 до 89 дней\n",
    "\n",
    "- overdue__more_than_90_days — число предыдущих просрочек выплат по кредиту более 90 дней\n",
    "\n",
    "- debt_to_income — Debt-to-income Ratio\n",
    "\n",
    "- monthly_income — месячный доход заемщика\n",
    "\n",
    "- credits_loans — текущее число займов и кредитных линий\n",
    "\n",
    "- mortgage_loans — текущее количество ипотечных займов\n",
    "\n",
    "- target — была ли просрочки выплат по кредиту более 90 дней - имеется только в обучающей выборке"
   ]
  },
  {
   "cell_type": "markdown",
   "metadata": {},
   "source": [
    "Let's look at summary statistics of train and test datas."
   ]
  },
  {
   "cell_type": "code",
   "execution_count": 4,
   "metadata": {},
   "outputs": [
    {
     "data": {
      "text/html": [
       "<div>\n",
       "<style scoped>\n",
       "    .dataframe tbody tr th:only-of-type {\n",
       "        vertical-align: middle;\n",
       "    }\n",
       "\n",
       "    .dataframe tbody tr th {\n",
       "        vertical-align: top;\n",
       "    }\n",
       "\n",
       "    .dataframe thead th {\n",
       "        text-align: right;\n",
       "    }\n",
       "</style>\n",
       "<table border=\"1\" class=\"dataframe\">\n",
       "  <thead>\n",
       "    <tr style=\"text-align: right;\">\n",
       "      <th></th>\n",
       "      <th>credit_card_utilization</th>\n",
       "      <th>age</th>\n",
       "      <th>overdue_30_59_days</th>\n",
       "      <th>debt_to_income</th>\n",
       "      <th>monthly_income</th>\n",
       "      <th>credits_loans</th>\n",
       "      <th>overdue__more_than_90_days</th>\n",
       "      <th>mortgage_loans</th>\n",
       "      <th>overdue_60_89_days</th>\n",
       "      <th>family_members</th>\n",
       "    </tr>\n",
       "  </thead>\n",
       "  <tbody>\n",
       "    <tr>\n",
       "      <th>count</th>\n",
       "      <td>105109.000000</td>\n",
       "      <td>105109.000000</td>\n",
       "      <td>105109.000000</td>\n",
       "      <td>105109.000000</td>\n",
       "      <td>8.411600e+04</td>\n",
       "      <td>105109.000000</td>\n",
       "      <td>105109.000000</td>\n",
       "      <td>105109.000000</td>\n",
       "      <td>105109.000000</td>\n",
       "      <td>102304.000000</td>\n",
       "    </tr>\n",
       "    <tr>\n",
       "      <th>mean</th>\n",
       "      <td>5.825173</td>\n",
       "      <td>53.321067</td>\n",
       "      <td>0.426643</td>\n",
       "      <td>354.188156</td>\n",
       "      <td>6.649725e+03</td>\n",
       "      <td>8.956255</td>\n",
       "      <td>0.269967</td>\n",
       "      <td>1.018514</td>\n",
       "      <td>0.244356</td>\n",
       "      <td>0.757096</td>\n",
       "    </tr>\n",
       "    <tr>\n",
       "      <th>std</th>\n",
       "      <td>251.021431</td>\n",
       "      <td>14.811007</td>\n",
       "      <td>4.251225</td>\n",
       "      <td>1827.184165</td>\n",
       "      <td>1.106504e+04</td>\n",
       "      <td>5.182715</td>\n",
       "      <td>4.227366</td>\n",
       "      <td>1.136228</td>\n",
       "      <td>4.214018</td>\n",
       "      <td>1.116525</td>\n",
       "    </tr>\n",
       "    <tr>\n",
       "      <th>min</th>\n",
       "      <td>0.000000</td>\n",
       "      <td>0.000000</td>\n",
       "      <td>0.000000</td>\n",
       "      <td>0.000000</td>\n",
       "      <td>0.000000e+00</td>\n",
       "      <td>0.000000</td>\n",
       "      <td>0.000000</td>\n",
       "      <td>0.000000</td>\n",
       "      <td>0.000000</td>\n",
       "      <td>0.000000</td>\n",
       "    </tr>\n",
       "    <tr>\n",
       "      <th>25%</th>\n",
       "      <td>0.029592</td>\n",
       "      <td>42.000000</td>\n",
       "      <td>0.000000</td>\n",
       "      <td>0.173670</td>\n",
       "      <td>3.343201e+03</td>\n",
       "      <td>5.000000</td>\n",
       "      <td>0.000000</td>\n",
       "      <td>0.000000</td>\n",
       "      <td>0.000000</td>\n",
       "      <td>0.000000</td>\n",
       "    </tr>\n",
       "    <tr>\n",
       "      <th>50%</th>\n",
       "      <td>0.153792</td>\n",
       "      <td>53.000000</td>\n",
       "      <td>0.000000</td>\n",
       "      <td>0.365047</td>\n",
       "      <td>5.361778e+03</td>\n",
       "      <td>8.000000</td>\n",
       "      <td>0.000000</td>\n",
       "      <td>1.000000</td>\n",
       "      <td>0.000000</td>\n",
       "      <td>0.000000</td>\n",
       "    </tr>\n",
       "    <tr>\n",
       "      <th>75%</th>\n",
       "      <td>0.554374</td>\n",
       "      <td>64.000000</td>\n",
       "      <td>0.000000</td>\n",
       "      <td>0.880882</td>\n",
       "      <td>8.207866e+03</td>\n",
       "      <td>12.000000</td>\n",
       "      <td>0.000000</td>\n",
       "      <td>2.000000</td>\n",
       "      <td>0.000000</td>\n",
       "      <td>1.000000</td>\n",
       "    </tr>\n",
       "    <tr>\n",
       "      <th>max</th>\n",
       "      <td>48779.730023</td>\n",
       "      <td>111.000000</td>\n",
       "      <td>98.000000</td>\n",
       "      <td>323248.210242</td>\n",
       "      <td>1.359526e+06</td>\n",
       "      <td>58.000000</td>\n",
       "      <td>98.000000</td>\n",
       "      <td>54.000000</td>\n",
       "      <td>98.000000</td>\n",
       "      <td>20.000000</td>\n",
       "    </tr>\n",
       "  </tbody>\n",
       "</table>\n",
       "</div>"
      ],
      "text/plain": [
       "       credit_card_utilization            age  overdue_30_59_days  \\\n",
       "count            105109.000000  105109.000000       105109.000000   \n",
       "mean                  5.825173      53.321067            0.426643   \n",
       "std                 251.021431      14.811007            4.251225   \n",
       "min                   0.000000       0.000000            0.000000   \n",
       "25%                   0.029592      42.000000            0.000000   \n",
       "50%                   0.153792      53.000000            0.000000   \n",
       "75%                   0.554374      64.000000            0.000000   \n",
       "max               48779.730023     111.000000           98.000000   \n",
       "\n",
       "       debt_to_income  monthly_income  credits_loans  \\\n",
       "count   105109.000000    8.411600e+04  105109.000000   \n",
       "mean       354.188156    6.649725e+03       8.956255   \n",
       "std       1827.184165    1.106504e+04       5.182715   \n",
       "min          0.000000    0.000000e+00       0.000000   \n",
       "25%          0.173670    3.343201e+03       5.000000   \n",
       "50%          0.365047    5.361778e+03       8.000000   \n",
       "75%          0.880882    8.207866e+03      12.000000   \n",
       "max     323248.210242    1.359526e+06      58.000000   \n",
       "\n",
       "       overdue__more_than_90_days  mortgage_loans  overdue_60_89_days  \\\n",
       "count               105109.000000   105109.000000       105109.000000   \n",
       "mean                     0.269967        1.018514            0.244356   \n",
       "std                      4.227366        1.136228            4.214018   \n",
       "min                      0.000000        0.000000            0.000000   \n",
       "25%                      0.000000        0.000000            0.000000   \n",
       "50%                      0.000000        1.000000            0.000000   \n",
       "75%                      0.000000        2.000000            0.000000   \n",
       "max                     98.000000       54.000000           98.000000   \n",
       "\n",
       "       family_members  \n",
       "count   102304.000000  \n",
       "mean         0.757096  \n",
       "std          1.116525  \n",
       "min          0.000000  \n",
       "25%          0.000000  \n",
       "50%          0.000000  \n",
       "75%          1.000000  \n",
       "max         20.000000  "
      ]
     },
     "execution_count": 4,
     "metadata": {},
     "output_type": "execute_result"
    }
   ],
   "source": [
    "X_train.describe()"
   ]
  },
  {
   "cell_type": "code",
   "execution_count": 5,
   "metadata": {},
   "outputs": [
    {
     "data": {
      "text/html": [
       "<div>\n",
       "<style scoped>\n",
       "    .dataframe tbody tr th:only-of-type {\n",
       "        vertical-align: middle;\n",
       "    }\n",
       "\n",
       "    .dataframe tbody tr th {\n",
       "        vertical-align: top;\n",
       "    }\n",
       "\n",
       "    .dataframe thead th {\n",
       "        text-align: right;\n",
       "    }\n",
       "</style>\n",
       "<table border=\"1\" class=\"dataframe\">\n",
       "  <thead>\n",
       "    <tr style=\"text-align: right;\">\n",
       "      <th></th>\n",
       "      <th>index</th>\n",
       "      <th>credit_card_utilization</th>\n",
       "      <th>age</th>\n",
       "      <th>overdue_30_59_days</th>\n",
       "      <th>debt_to_income</th>\n",
       "      <th>monthly_income</th>\n",
       "      <th>credits_loans</th>\n",
       "      <th>overdue__more_than_90_days</th>\n",
       "      <th>mortgage_loans</th>\n",
       "      <th>overdue_60_89_days</th>\n",
       "      <th>family_members</th>\n",
       "    </tr>\n",
       "  </thead>\n",
       "  <tbody>\n",
       "    <tr>\n",
       "      <th>count</th>\n",
       "      <td>38876.000000</td>\n",
       "      <td>38876.000000</td>\n",
       "      <td>38876.000000</td>\n",
       "      <td>38876.000000</td>\n",
       "      <td>38876.000000</td>\n",
       "      <td>3.133100e+04</td>\n",
       "      <td>38876.000000</td>\n",
       "      <td>38876.000000</td>\n",
       "      <td>38876.000000</td>\n",
       "      <td>38876.000000</td>\n",
       "      <td>37921.000000</td>\n",
       "    </tr>\n",
       "    <tr>\n",
       "      <th>mean</th>\n",
       "      <td>71772.980116</td>\n",
       "      <td>7.143140</td>\n",
       "      <td>53.236238</td>\n",
       "      <td>0.406986</td>\n",
       "      <td>351.627896</td>\n",
       "      <td>6.726128e+03</td>\n",
       "      <td>8.946599</td>\n",
       "      <td>0.252598</td>\n",
       "      <td>1.017466</td>\n",
       "      <td>0.229808</td>\n",
       "      <td>0.759131</td>\n",
       "    </tr>\n",
       "    <tr>\n",
       "      <th>std</th>\n",
       "      <td>41436.065456</td>\n",
       "      <td>259.023345</td>\n",
       "      <td>14.772393</td>\n",
       "      <td>4.023815</td>\n",
       "      <td>2545.254355</td>\n",
       "      <td>2.116051e+04</td>\n",
       "      <td>5.153647</td>\n",
       "      <td>3.999838</td>\n",
       "      <td>1.113531</td>\n",
       "      <td>3.985055</td>\n",
       "      <td>1.112832</td>\n",
       "    </tr>\n",
       "    <tr>\n",
       "      <th>min</th>\n",
       "      <td>5.000000</td>\n",
       "      <td>0.000000</td>\n",
       "      <td>21.000000</td>\n",
       "      <td>0.000000</td>\n",
       "      <td>0.000000</td>\n",
       "      <td>0.000000e+00</td>\n",
       "      <td>0.000000</td>\n",
       "      <td>0.000000</td>\n",
       "      <td>0.000000</td>\n",
       "      <td>0.000000</td>\n",
       "      <td>0.000000</td>\n",
       "    </tr>\n",
       "    <tr>\n",
       "      <th>25%</th>\n",
       "      <td>35939.250000</td>\n",
       "      <td>0.029097</td>\n",
       "      <td>42.000000</td>\n",
       "      <td>0.000000</td>\n",
       "      <td>0.170806</td>\n",
       "      <td>3.349846e+03</td>\n",
       "      <td>5.000000</td>\n",
       "      <td>0.000000</td>\n",
       "      <td>0.000000</td>\n",
       "      <td>0.000000</td>\n",
       "      <td>0.000000</td>\n",
       "    </tr>\n",
       "    <tr>\n",
       "      <th>50%</th>\n",
       "      <td>71714.000000</td>\n",
       "      <td>0.152136</td>\n",
       "      <td>53.000000</td>\n",
       "      <td>0.000000</td>\n",
       "      <td>0.361875</td>\n",
       "      <td>5.339619e+03</td>\n",
       "      <td>8.000000</td>\n",
       "      <td>0.000000</td>\n",
       "      <td>1.000000</td>\n",
       "      <td>0.000000</td>\n",
       "      <td>0.000000</td>\n",
       "    </tr>\n",
       "    <tr>\n",
       "      <th>75%</th>\n",
       "      <td>107495.250000</td>\n",
       "      <td>0.558911</td>\n",
       "      <td>64.000000</td>\n",
       "      <td>0.000000</td>\n",
       "      <td>0.843592</td>\n",
       "      <td>8.264207e+03</td>\n",
       "      <td>12.000000</td>\n",
       "      <td>0.000000</td>\n",
       "      <td>2.000000</td>\n",
       "      <td>0.000000</td>\n",
       "      <td>1.000000</td>\n",
       "    </tr>\n",
       "    <tr>\n",
       "      <th>max</th>\n",
       "      <td>143975.000000</td>\n",
       "      <td>32131.063581</td>\n",
       "      <td>110.000000</td>\n",
       "      <td>98.000000</td>\n",
       "      <td>349464.845051</td>\n",
       "      <td>3.117341e+06</td>\n",
       "      <td>56.000000</td>\n",
       "      <td>98.000000</td>\n",
       "      <td>23.000000</td>\n",
       "      <td>98.000000</td>\n",
       "      <td>9.000000</td>\n",
       "    </tr>\n",
       "  </tbody>\n",
       "</table>\n",
       "</div>"
      ],
      "text/plain": [
       "               index  credit_card_utilization           age  \\\n",
       "count   38876.000000             38876.000000  38876.000000   \n",
       "mean    71772.980116                 7.143140     53.236238   \n",
       "std     41436.065456               259.023345     14.772393   \n",
       "min         5.000000                 0.000000     21.000000   \n",
       "25%     35939.250000                 0.029097     42.000000   \n",
       "50%     71714.000000                 0.152136     53.000000   \n",
       "75%    107495.250000                 0.558911     64.000000   \n",
       "max    143975.000000             32131.063581    110.000000   \n",
       "\n",
       "       overdue_30_59_days  debt_to_income  monthly_income  credits_loans  \\\n",
       "count        38876.000000    38876.000000    3.133100e+04   38876.000000   \n",
       "mean             0.406986      351.627896    6.726128e+03       8.946599   \n",
       "std              4.023815     2545.254355    2.116051e+04       5.153647   \n",
       "min              0.000000        0.000000    0.000000e+00       0.000000   \n",
       "25%              0.000000        0.170806    3.349846e+03       5.000000   \n",
       "50%              0.000000        0.361875    5.339619e+03       8.000000   \n",
       "75%              0.000000        0.843592    8.264207e+03      12.000000   \n",
       "max             98.000000   349464.845051    3.117341e+06      56.000000   \n",
       "\n",
       "       overdue__more_than_90_days  mortgage_loans  overdue_60_89_days  \\\n",
       "count                38876.000000    38876.000000        38876.000000   \n",
       "mean                     0.252598        1.017466            0.229808   \n",
       "std                      3.999838        1.113531            3.985055   \n",
       "min                      0.000000        0.000000            0.000000   \n",
       "25%                      0.000000        0.000000            0.000000   \n",
       "50%                      0.000000        1.000000            0.000000   \n",
       "75%                      0.000000        2.000000            0.000000   \n",
       "max                     98.000000       23.000000           98.000000   \n",
       "\n",
       "       family_members  \n",
       "count    37921.000000  \n",
       "mean         0.759131  \n",
       "std          1.112832  \n",
       "min          0.000000  \n",
       "25%          0.000000  \n",
       "50%          0.000000  \n",
       "75%          1.000000  \n",
       "max          9.000000  "
      ]
     },
     "execution_count": 5,
     "metadata": {},
     "output_type": "execute_result"
    }
   ],
   "source": [
    "X_test.describe()"
   ]
  },
  {
   "cell_type": "markdown",
   "metadata": {},
   "source": [
    "and check for missing values:"
   ]
  },
  {
   "cell_type": "code",
   "execution_count": 6,
   "metadata": {},
   "outputs": [
    {
     "name": "stdout",
     "output_type": "stream",
     "text": [
      "<class 'pandas.core.frame.DataFrame'>\n",
      "RangeIndex: 105109 entries, 0 to 105108\n",
      "Data columns (total 10 columns):\n",
      " #   Column                      Non-Null Count   Dtype  \n",
      "---  ------                      --------------   -----  \n",
      " 0   credit_card_utilization     105109 non-null  float64\n",
      " 1   age                         105109 non-null  int64  \n",
      " 2   overdue_30_59_days          105109 non-null  int64  \n",
      " 3   debt_to_income              105109 non-null  float64\n",
      " 4   monthly_income              84116 non-null   float64\n",
      " 5   credits_loans               105109 non-null  int64  \n",
      " 6   overdue__more_than_90_days  105109 non-null  int64  \n",
      " 7   mortgage_loans              105109 non-null  int64  \n",
      " 8   overdue_60_89_days          105109 non-null  int64  \n",
      " 9   family_members              102304 non-null  float64\n",
      "dtypes: float64(4), int64(6)\n",
      "memory usage: 8.0 MB\n"
     ]
    }
   ],
   "source": [
    "X_train.info()"
   ]
  },
  {
   "cell_type": "code",
   "execution_count": 7,
   "metadata": {},
   "outputs": [
    {
     "name": "stdout",
     "output_type": "stream",
     "text": [
      "<class 'pandas.core.frame.DataFrame'>\n",
      "RangeIndex: 38876 entries, 0 to 38875\n",
      "Data columns (total 11 columns):\n",
      " #   Column                      Non-Null Count  Dtype  \n",
      "---  ------                      --------------  -----  \n",
      " 0   index                       38876 non-null  int64  \n",
      " 1   credit_card_utilization     38876 non-null  float64\n",
      " 2   age                         38876 non-null  int64  \n",
      " 3   overdue_30_59_days          38876 non-null  int64  \n",
      " 4   debt_to_income              38876 non-null  float64\n",
      " 5   monthly_income              31331 non-null  float64\n",
      " 6   credits_loans               38876 non-null  int64  \n",
      " 7   overdue__more_than_90_days  38876 non-null  int64  \n",
      " 8   mortgage_loans              38876 non-null  int64  \n",
      " 9   overdue_60_89_days          38876 non-null  int64  \n",
      " 10  family_members              37921 non-null  float64\n",
      "dtypes: float64(4), int64(7)\n",
      "memory usage: 3.3 MB\n"
     ]
    }
   ],
   "source": [
    "X_test.info()"
   ]
  },
  {
   "cell_type": "markdown",
   "metadata": {},
   "source": [
    "We see missing values in monthly_income and family_members, further we need to deal with it. Look at the target variable:"
   ]
  },
  {
   "cell_type": "code",
   "execution_count": 8,
   "metadata": {},
   "outputs": [
    {
     "data": {
      "text/plain": [
       "0    98078\n",
       "1     7031\n",
       "Name: target, dtype: int64"
      ]
     },
     "execution_count": 8,
     "metadata": {},
     "output_type": "execute_result"
    }
   ],
   "source": [
    "y_train.target.value_counts()"
   ]
  },
  {
   "cell_type": "markdown",
   "metadata": {},
   "source": [
    "We see that classes are imbalanced and we should keep it in mind."
   ]
  },
  {
   "cell_type": "markdown",
   "metadata": {},
   "source": [
    "Let's concatenate train explanatory and target variables: it may be convenient for future processing."
   ]
  },
  {
   "cell_type": "code",
   "execution_count": 9,
   "metadata": {},
   "outputs": [],
   "source": [
    "Xy_train = pd.concat([X_train, y_train], axis=1)"
   ]
  },
  {
   "cell_type": "markdown",
   "metadata": {},
   "source": [
    "## Age"
   ]
  },
  {
   "cell_type": "markdown",
   "metadata": {},
   "source": [
    "Look at the rarest values of \"age\" feature in train and test data:"
   ]
  },
  {
   "cell_type": "code",
   "execution_count": 10,
   "metadata": {},
   "outputs": [
    {
     "data": {
      "text/plain": [
       "0       1\n",
       "111     1\n",
       "107     2\n",
       "103     2\n",
       "102     2\n",
       "101     3\n",
       "100     3\n",
       "99      8\n",
       "98     11\n",
       "97     19\n",
       "96     28\n",
       "21     36\n",
       "95     40\n",
       "94     47\n",
       "93     87\n",
       "Name: age, dtype: int64"
      ]
     },
     "execution_count": 10,
     "metadata": {},
     "output_type": "execute_result"
    }
   ],
   "source": [
    "Xy_train.age.value_counts()[::-1].head(15)"
   ]
  },
  {
   "cell_type": "code",
   "execution_count": 11,
   "metadata": {
    "scrolled": true
   },
   "outputs": [
    {
     "data": {
      "text/plain": [
       "103     1\n",
       "110     1\n",
       "102     1\n",
       "105     2\n",
       "99      2\n",
       "100     3\n",
       "98      3\n",
       "97      9\n",
       "94     11\n",
       "96     13\n",
       "95     14\n",
       "21     16\n",
       "93     29\n",
       "92     45\n",
       "22     51\n",
       "Name: age, dtype: int64"
      ]
     },
     "execution_count": 11,
     "metadata": {},
     "output_type": "execute_result"
    }
   ],
   "source": [
    "X_test.age.value_counts()[::-1].head(15)"
   ]
  },
  {
   "cell_type": "markdown",
   "metadata": {},
   "source": [
    "First of all, drop observation with age = 0 (it's exactly the outlier), than create categorical variable that simplifies the work of both trees (fewer number of thresholds) and linear models (easier to make relevant one-hot-encoding)."
   ]
  },
  {
   "cell_type": "code",
   "execution_count": 12,
   "metadata": {},
   "outputs": [],
   "source": [
    "Xy_train = Xy_train[Xy_train.age > 0]"
   ]
  },
  {
   "cell_type": "code",
   "execution_count": 13,
   "metadata": {
    "scrolled": false
   },
   "outputs": [],
   "source": [
    "for data in [Xy_train, X_test]:\n",
    "    data.loc[data.age <= 24, 'age_cat'] = '18_24'\n",
    "\n",
    "    for current_age in [35, 45, 55, 65]:\n",
    "        data.loc[(data.age.between(current_age-10, current_age-1)), \n",
    "                   'age_cat'] = f'{current_age-10}_{current_age-1}'\n",
    "\n",
    "    data.loc[(data.age >= 65) & (data.age < 85), 'age_cat'] = '65_84'\n",
    "    data.loc[(data.age >= 85), 'age_cat'] = '85_'"
   ]
  },
  {
   "cell_type": "markdown",
   "metadata": {},
   "source": [
    "Next cell checks tha balance of categories (I will repeat this with other features too)."
   ]
  },
  {
   "cell_type": "code",
   "execution_count": 14,
   "metadata": {},
   "outputs": [
    {
     "data": {
      "text/plain": [
       "45_54    0.001266\n",
       "55_64   -0.002032\n",
       "65_84    0.000329\n",
       "35_44    0.000114\n",
       "25_34   -0.001240\n",
       "85_      0.001418\n",
       "18_24    0.000144\n",
       "Name: age_cat, dtype: float64"
      ]
     },
     "execution_count": 14,
     "metadata": {},
     "output_type": "execute_result"
    }
   ],
   "source": [
    "Xy_train.age_cat.value_counts(normalize=True) - X_test.age_cat.value_counts(normalize=True)"
   ]
  },
  {
   "cell_type": "markdown",
   "metadata": {},
   "source": [
    "## Family members"
   ]
  },
  {
   "cell_type": "markdown",
   "metadata": {},
   "source": [
    "Let's look on values of \"family_members\" feature:"
   ]
  },
  {
   "cell_type": "code",
   "execution_count": 15,
   "metadata": {},
   "outputs": [
    {
     "data": {
      "text/plain": [
       "0.0     60844\n",
       "1.0     18525\n",
       "2.0     13607\n",
       "3.0      6595\n",
       "4.0      2022\n",
       "5.0       538\n",
       "6.0       111\n",
       "7.0        33\n",
       "8.0        19\n",
       "10.0        5\n",
       "9.0         2\n",
       "13.0        1\n",
       "20.0        1\n",
       "Name: family_members, dtype: int64"
      ]
     },
     "execution_count": 15,
     "metadata": {},
     "output_type": "execute_result"
    }
   ],
   "source": [
    "Xy_train.family_members.value_counts()"
   ]
  },
  {
   "cell_type": "code",
   "execution_count": 16,
   "metadata": {},
   "outputs": [
    {
     "data": {
      "text/plain": [
       "0.0    22536\n",
       "1.0     6780\n",
       "2.0     5124\n",
       "3.0     2514\n",
       "4.0      719\n",
       "5.0      182\n",
       "6.0       41\n",
       "7.0       18\n",
       "8.0        4\n",
       "9.0        3\n",
       "Name: family_members, dtype: int64"
      ]
     },
     "execution_count": 16,
     "metadata": {},
     "output_type": "execute_result"
    }
   ],
   "source": [
    "X_test.family_members.value_counts()"
   ]
  },
  {
   "cell_type": "code",
   "execution_count": 17,
   "metadata": {},
   "outputs": [
    {
     "data": {
      "text/html": [
       "<div>\n",
       "<style scoped>\n",
       "    .dataframe tbody tr th:only-of-type {\n",
       "        vertical-align: middle;\n",
       "    }\n",
       "\n",
       "    .dataframe tbody tr th {\n",
       "        vertical-align: top;\n",
       "    }\n",
       "\n",
       "    .dataframe thead th {\n",
       "        text-align: right;\n",
       "    }\n",
       "</style>\n",
       "<table border=\"1\" class=\"dataframe\">\n",
       "  <thead>\n",
       "    <tr style=\"text-align: right;\">\n",
       "      <th></th>\n",
       "      <th>credit_card_utilization</th>\n",
       "      <th>age</th>\n",
       "      <th>overdue_30_59_days</th>\n",
       "      <th>debt_to_income</th>\n",
       "      <th>monthly_income</th>\n",
       "      <th>credits_loans</th>\n",
       "      <th>overdue__more_than_90_days</th>\n",
       "      <th>mortgage_loans</th>\n",
       "      <th>overdue_60_89_days</th>\n",
       "      <th>family_members</th>\n",
       "      <th>target</th>\n",
       "      <th>age_cat</th>\n",
       "    </tr>\n",
       "  </thead>\n",
       "  <tbody>\n",
       "    <tr>\n",
       "      <th>14852</th>\n",
       "      <td>0.019166</td>\n",
       "      <td>48</td>\n",
       "      <td>1</td>\n",
       "      <td>0.374951</td>\n",
       "      <td>7905.649003</td>\n",
       "      <td>8</td>\n",
       "      <td>0</td>\n",
       "      <td>1</td>\n",
       "      <td>0</td>\n",
       "      <td>10.0</td>\n",
       "      <td>0</td>\n",
       "      <td>45_54</td>\n",
       "    </tr>\n",
       "    <tr>\n",
       "      <th>16514</th>\n",
       "      <td>0.000000</td>\n",
       "      <td>44</td>\n",
       "      <td>0</td>\n",
       "      <td>0.045493</td>\n",
       "      <td>10197.229559</td>\n",
       "      <td>5</td>\n",
       "      <td>0</td>\n",
       "      <td>0</td>\n",
       "      <td>0</td>\n",
       "      <td>10.0</td>\n",
       "      <td>0</td>\n",
       "      <td>35_44</td>\n",
       "    </tr>\n",
       "    <tr>\n",
       "      <th>21733</th>\n",
       "      <td>0.133545</td>\n",
       "      <td>44</td>\n",
       "      <td>1</td>\n",
       "      <td>3321.364632</td>\n",
       "      <td>0.000000</td>\n",
       "      <td>9</td>\n",
       "      <td>0</td>\n",
       "      <td>1</td>\n",
       "      <td>0</td>\n",
       "      <td>10.0</td>\n",
       "      <td>0</td>\n",
       "      <td>35_44</td>\n",
       "    </tr>\n",
       "    <tr>\n",
       "      <th>44605</th>\n",
       "      <td>1.032099</td>\n",
       "      <td>54</td>\n",
       "      <td>1</td>\n",
       "      <td>0.273139</td>\n",
       "      <td>3626.974798</td>\n",
       "      <td>3</td>\n",
       "      <td>1</td>\n",
       "      <td>1</td>\n",
       "      <td>0</td>\n",
       "      <td>13.0</td>\n",
       "      <td>0</td>\n",
       "      <td>45_54</td>\n",
       "    </tr>\n",
       "    <tr>\n",
       "      <th>71292</th>\n",
       "      <td>0.220114</td>\n",
       "      <td>41</td>\n",
       "      <td>1</td>\n",
       "      <td>0.487007</td>\n",
       "      <td>6473.042881</td>\n",
       "      <td>12</td>\n",
       "      <td>2</td>\n",
       "      <td>1</td>\n",
       "      <td>0</td>\n",
       "      <td>20.0</td>\n",
       "      <td>0</td>\n",
       "      <td>35_44</td>\n",
       "    </tr>\n",
       "    <tr>\n",
       "      <th>89080</th>\n",
       "      <td>0.312901</td>\n",
       "      <td>40</td>\n",
       "      <td>0</td>\n",
       "      <td>0.023831</td>\n",
       "      <td>4945.736524</td>\n",
       "      <td>7</td>\n",
       "      <td>0</td>\n",
       "      <td>0</td>\n",
       "      <td>0</td>\n",
       "      <td>10.0</td>\n",
       "      <td>0</td>\n",
       "      <td>35_44</td>\n",
       "    </tr>\n",
       "    <tr>\n",
       "      <th>104455</th>\n",
       "      <td>0.070697</td>\n",
       "      <td>60</td>\n",
       "      <td>0</td>\n",
       "      <td>0.110718</td>\n",
       "      <td>7474.461388</td>\n",
       "      <td>10</td>\n",
       "      <td>0</td>\n",
       "      <td>0</td>\n",
       "      <td>0</td>\n",
       "      <td>10.0</td>\n",
       "      <td>0</td>\n",
       "      <td>55_64</td>\n",
       "    </tr>\n",
       "  </tbody>\n",
       "</table>\n",
       "</div>"
      ],
      "text/plain": [
       "        credit_card_utilization  age  overdue_30_59_days  debt_to_income  \\\n",
       "14852                  0.019166   48                   1        0.374951   \n",
       "16514                  0.000000   44                   0        0.045493   \n",
       "21733                  0.133545   44                   1     3321.364632   \n",
       "44605                  1.032099   54                   1        0.273139   \n",
       "71292                  0.220114   41                   1        0.487007   \n",
       "89080                  0.312901   40                   0        0.023831   \n",
       "104455                 0.070697   60                   0        0.110718   \n",
       "\n",
       "        monthly_income  credits_loans  overdue__more_than_90_days  \\\n",
       "14852      7905.649003              8                           0   \n",
       "16514     10197.229559              5                           0   \n",
       "21733         0.000000              9                           0   \n",
       "44605      3626.974798              3                           1   \n",
       "71292      6473.042881             12                           2   \n",
       "89080      4945.736524              7                           0   \n",
       "104455     7474.461388             10                           0   \n",
       "\n",
       "        mortgage_loans  overdue_60_89_days  family_members  target age_cat  \n",
       "14852                1                   0            10.0       0   45_54  \n",
       "16514                0                   0            10.0       0   35_44  \n",
       "21733                1                   0            10.0       0   35_44  \n",
       "44605                1                   0            13.0       0   45_54  \n",
       "71292                1                   0            20.0       0   35_44  \n",
       "89080                0                   0            10.0       0   35_44  \n",
       "104455               0                   0            10.0       0   55_64  "
      ]
     },
     "execution_count": 17,
     "metadata": {},
     "output_type": "execute_result"
    }
   ],
   "source": [
    "Xy_train[Xy_train.family_members > 9]"
   ]
  },
  {
   "cell_type": "markdown",
   "metadata": {},
   "source": [
    "We see that observations above can be painlessly dropped (target = 0). Drop them and create categorical variable as well (for nans separate category)."
   ]
  },
  {
   "cell_type": "code",
   "execution_count": 18,
   "metadata": {},
   "outputs": [],
   "source": [
    "Xy_train.drop(index=Xy_train[Xy_train.family_members > 9].index, inplace=True)"
   ]
  },
  {
   "cell_type": "code",
   "execution_count": 19,
   "metadata": {},
   "outputs": [],
   "source": [
    "for data in [Xy_train, X_test]:\n",
    "    data.loc[data.family_members == 0, 'family'] = 'not'\n",
    "    data.loc[data.family_members == 1, 'family'] = 'one'\n",
    "    data.loc[data.family_members == 2, 'family'] = 'two'\n",
    "    data.loc[data.family_members == 3, 'family'] = 'three'\n",
    "    data.loc[data.family_members >= 4, 'family'] = 'four_and_more'\n",
    "    data.loc[data.family_members.isna(), 'family'] = 'unknown'"
   ]
  },
  {
   "cell_type": "code",
   "execution_count": 20,
   "metadata": {},
   "outputs": [
    {
     "data": {
      "text/plain": [
       "four_and_more    0.001053\n",
       "not             -0.000779\n",
       "one              0.001858\n",
       "three           -0.001918\n",
       "two             -0.002338\n",
       "unknown          0.002123\n",
       "Name: family, dtype: float64"
      ]
     },
     "execution_count": 20,
     "metadata": {},
     "output_type": "execute_result"
    }
   ],
   "source": [
    "Xy_train.family.value_counts(normalize=True) - X_test.family.value_counts(normalize=True)"
   ]
  },
  {
   "cell_type": "markdown",
   "metadata": {},
   "source": [
    "## Credit utilization rate"
   ]
  },
  {
   "cell_type": "code",
   "execution_count": 21,
   "metadata": {},
   "outputs": [
    {
     "data": {
      "text/plain": [
       "(6959, 2616)"
      ]
     },
     "execution_count": 21,
     "metadata": {},
     "output_type": "execute_result"
    }
   ],
   "source": [
    "(Xy_train.credit_card_utilization > 1).sum(), (X_test.credit_card_utilization > 1).sum()"
   ]
  },
  {
   "cell_type": "markdown",
   "metadata": {},
   "source": [
    "According to information from the Internet, we divide values into several groups. It's strange for ratio to be more than 1, for such ones make extra category."
   ]
  },
  {
   "cell_type": "code",
   "execution_count": 22,
   "metadata": {},
   "outputs": [],
   "source": [
    "for data in [Xy_train, X_test]:\n",
    "    data.loc[data.credit_card_utilization > 1, 'cur'] = 'strange'\n",
    "    data.loc[data.credit_card_utilization == 0, 'cur'] = 'too_good'\n",
    "\n",
    "    data.loc[(data.credit_card_utilization > 0) & (data.credit_card_utilization <= 0.3), 'cur'] = 'good'\n",
    "    data.loc[(data.credit_card_utilization > 0.3) & (data.credit_card_utilization <= 0.7), 'cur'] = 'ok'\n",
    "    data.loc[(data.credit_card_utilization > 0.7) & (data.credit_card_utilization <= 1), 'cur'] = 'bad'"
   ]
  },
  {
   "cell_type": "code",
   "execution_count": 23,
   "metadata": {},
   "outputs": [
    {
     "data": {
      "text/plain": [
       "good        0.000152\n",
       "ok          0.002866\n",
       "bad        -0.001007\n",
       "too_good   -0.000932\n",
       "strange    -0.001078\n",
       "Name: cur, dtype: float64"
      ]
     },
     "execution_count": 23,
     "metadata": {},
     "output_type": "execute_result"
    }
   ],
   "source": [
    "Xy_train.cur.value_counts(normalize=True) - X_test.cur.value_counts(normalize=True)"
   ]
  },
  {
   "cell_type": "markdown",
   "metadata": {},
   "source": [
    "## Overdue payments"
   ]
  },
  {
   "cell_type": "markdown",
   "metadata": {},
   "source": [
    "For \"overdue payments\" columns we repeat similar procedures as above."
   ]
  },
  {
   "cell_type": "code",
   "execution_count": 24,
   "metadata": {},
   "outputs": [
    {
     "data": {
      "text/plain": [
       "0     88258\n",
       "1     11258\n",
       "2      3233\n",
       "3      1222\n",
       "4       525\n",
       "5       241\n",
       "98      189\n",
       "6       102\n",
       "7        37\n",
       "8        17\n",
       "9         8\n",
       "96        5\n",
       "10        4\n",
       "12        1\n",
       "11        1\n",
       "Name: overdue_30_59_days, dtype: int64"
      ]
     },
     "execution_count": 24,
     "metadata": {},
     "output_type": "execute_result"
    }
   ],
   "source": [
    "Xy_train.overdue_30_59_days.value_counts()"
   ]
  },
  {
   "cell_type": "code",
   "execution_count": 25,
   "metadata": {},
   "outputs": [
    {
     "data": {
      "text/plain": [
       "array([ 0,  1, 98,  2,  5,  4,  3,  7, 12, 13,  9,  6,  8])"
      ]
     },
     "execution_count": 25,
     "metadata": {},
     "output_type": "execute_result"
    }
   ],
   "source": [
    "X_test.overdue_30_59_days.unique()"
   ]
  },
  {
   "cell_type": "code",
   "execution_count": 26,
   "metadata": {},
   "outputs": [
    {
     "data": {
      "text/plain": [
       "0     99814\n",
       "1      4020\n",
       "2       744\n",
       "3       216\n",
       "98      189\n",
       "4        73\n",
       "5        22\n",
       "6         9\n",
       "7         6\n",
       "96        5\n",
       "11        1\n",
       "9         1\n",
       "8         1\n",
       "Name: overdue_60_89_days, dtype: int64"
      ]
     },
     "execution_count": 26,
     "metadata": {},
     "output_type": "execute_result"
    }
   ],
   "source": [
    "Xy_train.overdue_60_89_days.value_counts()"
   ]
  },
  {
   "cell_type": "code",
   "execution_count": 27,
   "metadata": {},
   "outputs": [
    {
     "data": {
      "text/plain": [
       "array([ 0,  1, 98,  2,  4,  3,  7,  5,  6,  8])"
      ]
     },
     "execution_count": 27,
     "metadata": {},
     "output_type": "execute_result"
    }
   ],
   "source": [
    "X_test.overdue_60_89_days.unique()"
   ]
  },
  {
   "cell_type": "code",
   "execution_count": 28,
   "metadata": {},
   "outputs": [
    {
     "data": {
      "text/plain": [
       "0     99316\n",
       "1      3621\n",
       "2      1085\n",
       "3       461\n",
       "4       209\n",
       "98      189\n",
       "5        99\n",
       "6        48\n",
       "7        24\n",
       "8        18\n",
       "9        13\n",
       "96        5\n",
       "13        4\n",
       "10        4\n",
       "11        3\n",
       "12        2\n",
       "Name: overdue__more_than_90_days, dtype: int64"
      ]
     },
     "execution_count": 28,
     "metadata": {},
     "output_type": "execute_result"
    }
   ],
   "source": [
    "Xy_train.overdue__more_than_90_days.value_counts()"
   ]
  },
  {
   "cell_type": "code",
   "execution_count": 29,
   "metadata": {},
   "outputs": [
    {
     "data": {
      "text/plain": [
       "array([ 0,  1, 98,  2,  3,  5,  6,  4, 11,  9,  7, 14,  8, 10, 15])"
      ]
     },
     "execution_count": 29,
     "metadata": {},
     "output_type": "execute_result"
    }
   ],
   "source": [
    "X_test.overdue__more_than_90_days.unique()"
   ]
  },
  {
   "cell_type": "code",
   "execution_count": 30,
   "metadata": {},
   "outputs": [],
   "source": [
    "Xy_train = Xy_train.loc[(Xy_train.overdue_30_59_days != 96) & (Xy_train.overdue_60_89_days != 96)]"
   ]
  },
  {
   "cell_type": "code",
   "execution_count": 31,
   "metadata": {},
   "outputs": [],
   "source": [
    "columns_new = ['overdue_30_59', 'overdue_60_89', 'overdue_90_higher']\n",
    "for i, col in enumerate(['overdue_30_59_days', 'overdue_60_89_days', 'overdue__more_than_90_days']):\n",
    "    for data in [Xy_train, X_test]:\n",
    "        data.loc[data[col] == 98, columns_new[i]] = 'unknown'\n",
    "        data.loc[data[col] == 0, columns_new[i]] = '0'\n",
    "        data.loc[data[col] == 1, columns_new[i]] = '1'\n",
    "        data.loc[data[col] == 2, columns_new[i]] = '2'\n",
    "        data.loc[data[col].between(3, 25), columns_new[i]] = '3+'"
   ]
  },
  {
   "cell_type": "code",
   "execution_count": 32,
   "metadata": {},
   "outputs": [
    {
     "data": {
      "text/plain": [
       "0         -0.000039\n",
       "1         -0.000066\n",
       "2          0.000152\n",
       "3+        -0.000199\n",
       "unknown    0.000152\n",
       "Name: overdue_30_59, dtype: float64"
      ]
     },
     "execution_count": 32,
     "metadata": {},
     "output_type": "execute_result"
    }
   ],
   "source": [
    "Xy_train.overdue_30_59.value_counts(normalize=True) - X_test.overdue_30_59.value_counts(normalize=True)"
   ]
  },
  {
   "cell_type": "code",
   "execution_count": 33,
   "metadata": {},
   "outputs": [
    {
     "data": {
      "text/plain": [
       "0          0.002190\n",
       "1         -0.000514\n",
       "2         -0.001512\n",
       "3+        -0.000316\n",
       "unknown    0.000152\n",
       "Name: overdue_60_89, dtype: float64"
      ]
     },
     "execution_count": 33,
     "metadata": {},
     "output_type": "execute_result"
    }
   ],
   "source": [
    "Xy_train.overdue_60_89.value_counts(normalize=True) - X_test.overdue_60_89.value_counts(normalize=True)"
   ]
  },
  {
   "cell_type": "code",
   "execution_count": 34,
   "metadata": {},
   "outputs": [
    {
     "data": {
      "text/plain": [
       "0          0.001258\n",
       "1         -0.001609\n",
       "2          0.000215\n",
       "3+        -0.000016\n",
       "unknown    0.000152\n",
       "Name: overdue_90_higher, dtype: float64"
      ]
     },
     "execution_count": 34,
     "metadata": {},
     "output_type": "execute_result"
    }
   ],
   "source": [
    "Xy_train.overdue_90_higher.value_counts(normalize=True) - X_test.overdue_90_higher.value_counts(normalize=True)"
   ]
  },
  {
   "cell_type": "markdown",
   "metadata": {},
   "source": [
    "## Debt to income ratio"
   ]
  },
  {
   "cell_type": "markdown",
   "metadata": {},
   "source": [
    "Create new column from debt-to-income raio and monthly income (maybe it will be useful) and fill nans with -1."
   ]
  },
  {
   "cell_type": "code",
   "execution_count": 35,
   "metadata": {},
   "outputs": [],
   "source": [
    "for data in [Xy_train, X_test]:\n",
    "    data['monthly_debt'] = data.debt_to_income * data.monthly_income\n",
    "    data.loc[data.monthly_debt.isna(), 'monthly_debt'] = -1\n",
    "    data.loc[data.monthly_income.isna(), 'monthly_income'] = -1"
   ]
  },
  {
   "cell_type": "code",
   "execution_count": 36,
   "metadata": {},
   "outputs": [
    {
     "data": {
      "text/plain": [
       "1045.399023    1\n",
       "568.647642     1\n",
       "2424.910813    1\n",
       "1.413065       1\n",
       "6140.327473    1\n",
       "              ..\n",
       "931.515391     1\n",
       "216.866142     1\n",
       "1492.346241    1\n",
       "908.307626     1\n",
       "526.881135     1\n",
       "Name: debt_to_income, Length: 24953, dtype: int64"
      ]
     },
     "execution_count": 36,
     "metadata": {},
     "output_type": "execute_result"
    }
   ],
   "source": [
    "Xy_train.debt_to_income[Xy_train.debt_to_income > 1].value_counts()"
   ]
  },
  {
   "cell_type": "markdown",
   "metadata": {},
   "source": [
    "Again, strange values will have their own category."
   ]
  },
  {
   "cell_type": "code",
   "execution_count": 37,
   "metadata": {},
   "outputs": [],
   "source": [
    "for data in [Xy_train, X_test]:\n",
    "    data.loc[data.debt_to_income > 1, 'debt_to_income_rate'] = 'strange'\n",
    "    data.loc[data.debt_to_income == 0, 'debt_to_income_rate'] = 'too_good'\n",
    "    \n",
    "    data.loc[(data.debt_to_income > 0) & (data.debt_to_income <= 0.35), 'debt_to_income_rate'] = 'good'\n",
    "    data.loc[(data.debt_to_income > 0.35) & (data.debt_to_income <= 0.49), 'debt_to_income_rate'] = 'not_ok'\n",
    "    data.loc[(data.debt_to_income > 0.49) & (data.debt_to_income <= 1), 'debt_to_income_rate'] = 'bad'"
   ]
  },
  {
   "cell_type": "code",
   "execution_count": 38,
   "metadata": {},
   "outputs": [
    {
     "data": {
      "text/plain": [
       "good       -0.003984\n",
       "strange     0.006208\n",
       "bad        -0.000725\n",
       "not_ok     -0.001526\n",
       "too_good    0.000027\n",
       "Name: debt_to_income_rate, dtype: float64"
      ]
     },
     "execution_count": 38,
     "metadata": {},
     "output_type": "execute_result"
    }
   ],
   "source": [
    "Xy_train.debt_to_income_rate.value_counts(normalize=True) - X_test.debt_to_income_rate.value_counts(normalize=True)"
   ]
  },
  {
   "cell_type": "markdown",
   "metadata": {},
   "source": [
    "## Credit and mortgage loans"
   ]
  },
  {
   "cell_type": "code",
   "execution_count": 39,
   "metadata": {},
   "outputs": [
    {
     "data": {
      "image/png": "[encoded data removed]",
      "text/plain": [
       "<Figure size 1080x360 with 2 Axes>"
      ]
     },
     "metadata": {
      "needs_background": "light"
     },
     "output_type": "display_data"
    }
   ],
   "source": [
    "fig, ax = plt.subplots(1, 2, figsize=(15, 5))\n",
    "sns.histplot(data=Xy_train, x='credits_loans', ax=ax[0])\n",
    "sns.histplot(data=Xy_train, x='mortgage_loans', ax=ax[1])\n",
    "plt.show()"
   ]
  },
  {
   "cell_type": "markdown",
   "metadata": {},
   "source": [
    "The distribution of credits_loans looks quite well, maybe we can try to use it in the model without changes, but we also make categorical features for credits_loans and mortgage_loans."
   ]
  },
  {
   "cell_type": "code",
   "execution_count": 40,
   "metadata": {},
   "outputs": [
    {
     "data": {
      "text/plain": [
       "array([ 9,  5, 12, 15,  0,  8,  4, 19, 21,  6,  7, 13,  3, 20, 17, 22,  2,\n",
       "       10, 11, 14, 16,  1, 32, 18, 25, 27, 36, 24, 28, 23, 34, 49, 30, 26,\n",
       "       29, 44, 42, 33, 45, 31, 58, 39, 35, 37, 46, 55, 40, 54, 38, 53, 43,\n",
       "       48, 50, 41, 56, 52, 57, 51, 47])"
      ]
     },
     "execution_count": 40,
     "metadata": {},
     "output_type": "execute_result"
    }
   ],
   "source": [
    "Xy_train.credits_loans.unique()"
   ]
  },
  {
   "cell_type": "code",
   "execution_count": 41,
   "metadata": {
    "scrolled": true
   },
   "outputs": [
    {
     "data": {
      "text/plain": [
       "7     9439\n",
       "6     9259\n",
       "8     9058\n",
       "5     8701\n",
       "9     8370\n",
       "10    7250\n",
       "4     7153\n",
       "11    6400\n",
       "3     5457\n",
       "12    5337\n",
       "13    4414\n",
       "2     3946\n",
       "14    3590\n",
       "15    2879\n",
       "16    2280\n",
       "1     2201\n",
       "17    1863\n",
       "18    1510\n",
       "19    1187\n",
       "20     907\n",
       "21     722\n",
       "0      676\n",
       "22     551\n",
       "23     413\n",
       "24     334\n",
       "25     270\n",
       "26     217\n",
       "27     145\n",
       "28     114\n",
       "29      96\n",
       "30      67\n",
       "31      55\n",
       "32      46\n",
       "33      42\n",
       "34      32\n",
       "35      20\n",
       "36      13\n",
       "37      10\n",
       "39       8\n",
       "42       7\n",
       "44       7\n",
       "46       6\n",
       "40       5\n",
       "41       5\n",
       "38       5\n",
       "49       4\n",
       "54       3\n",
       "48       3\n",
       "43       3\n",
       "45       3\n",
       "52       2\n",
       "53       2\n",
       "58       2\n",
       "50       2\n",
       "51       1\n",
       "47       1\n",
       "55       1\n",
       "56       1\n",
       "57       1\n",
       "Name: credits_loans, dtype: int64"
      ]
     },
     "execution_count": 41,
     "metadata": {},
     "output_type": "execute_result"
    }
   ],
   "source": [
    "Xy_train.credits_loans.value_counts()"
   ]
  },
  {
   "cell_type": "code",
   "execution_count": 42,
   "metadata": {
    "scrolled": true
   },
   "outputs": [
    {
     "data": {
      "text/plain": [
       "array([ 9,  6, 14,  8,  3, 12, 10, 13,  7, 15, 16, 29,  5,  2, 17,  4, 11,\n",
       "        1, 25, 18, 21,  0, 22, 19, 24, 20, 31, 28, 26, 27, 23, 37, 34, 33,\n",
       "       30, 39, 35, 36, 32, 41, 40, 54, 44, 38, 49, 52, 46, 56, 50])"
      ]
     },
     "execution_count": 42,
     "metadata": {},
     "output_type": "execute_result"
    }
   ],
   "source": [
    "X_test.credits_loans.unique()"
   ]
  },
  {
   "cell_type": "code",
   "execution_count": 43,
   "metadata": {},
   "outputs": [],
   "source": [
    "for data in [Xy_train, X_test]:\n",
    "    data.loc[data.credits_loans <= 2, 'credits_loans_cat'] = '0-2'\n",
    "    data.loc[data.credits_loans.between(3, 5), 'credits_loans_cat'] = '3-5'\n",
    "    data.loc[data.credits_loans.between(6, 7), 'credits_loans_cat'] = '6-7'\n",
    "    data.loc[data.credits_loans.between(8, 9), 'credits_loans_cat'] = '8-9'\n",
    "    data.loc[data.credits_loans.between(10, 11), 'credits_loans_cat'] = '10-11'\n",
    "    data.loc[data.credits_loans.between(12, 14), 'credits_loans_cat'] = '12-14'\n",
    "    data.loc[data.credits_loans.between(15, 20), 'credits_loans_cat'] = '15-19'\n",
    "    data.loc[data.credits_loans >= 21, 'credits_loans_cat'] = '20+'"
   ]
  },
  {
   "cell_type": "code",
   "execution_count": 44,
   "metadata": {},
   "outputs": [
    {
     "data": {
      "text/plain": [
       "3-5      0.000544\n",
       "6-7     -0.000140\n",
       "8-9      0.000174\n",
       "10-11   -0.000173\n",
       "12-14    0.000333\n",
       "15-19   -0.001604\n",
       "0-2      0.000229\n",
       "20+      0.000636\n",
       "Name: credits_loans_cat, dtype: float64"
      ]
     },
     "execution_count": 44,
     "metadata": {},
     "output_type": "execute_result"
    }
   ],
   "source": [
    "Xy_train.credits_loans_cat.value_counts(normalize=True) - X_test.credits_loans_cat.value_counts(normalize=True)"
   ]
  },
  {
   "cell_type": "code",
   "execution_count": 45,
   "metadata": {
    "scrolled": true
   },
   "outputs": [
    {
     "data": {
      "text/plain": [
       "0     39366\n",
       "1     36693\n",
       "2     22040\n",
       "3      4432\n",
       "4      1514\n",
       "5       501\n",
       "6       228\n",
       "7       116\n",
       "8        60\n",
       "9        56\n",
       "10       23\n",
       "11       17\n",
       "12       11\n",
       "13       11\n",
       "14        5\n",
       "15        4\n",
       "17        4\n",
       "25        3\n",
       "16        2\n",
       "19        2\n",
       "20        2\n",
       "32        1\n",
       "18        1\n",
       "21        1\n",
       "26        1\n",
       "29        1\n",
       "54        1\n",
       "Name: mortgage_loans, dtype: int64"
      ]
     },
     "execution_count": 45,
     "metadata": {},
     "output_type": "execute_result"
    }
   ],
   "source": [
    "Xy_train.mortgage_loans.value_counts()"
   ]
  },
  {
   "cell_type": "code",
   "execution_count": 46,
   "metadata": {},
   "outputs": [],
   "source": [
    "for data in [Xy_train, X_test]:\n",
    "    data.loc[data.mortgage_loans == 0, 'mortgage_loans_cat'] = '0'\n",
    "    data.loc[data.mortgage_loans == 1, 'mortgage_loans_cat'] = '1'\n",
    "    data.loc[data.mortgage_loans == 2, 'mortgage_loans_cat'] = '2'\n",
    "    data.loc[data.mortgage_loans >= 3, 'mortgage_loans_cat'] = '3+'"
   ]
  },
  {
   "cell_type": "code",
   "execution_count": 47,
   "metadata": {},
   "outputs": [
    {
     "data": {
      "text/plain": [
       "0     39366\n",
       "1     36693\n",
       "2     22040\n",
       "3+     6997\n",
       "Name: mortgage_loans_cat, dtype: int64"
      ]
     },
     "execution_count": 47,
     "metadata": {},
     "output_type": "execute_result"
    }
   ],
   "source": [
    "Xy_train.mortgage_loans_cat.value_counts()"
   ]
  },
  {
   "cell_type": "code",
   "execution_count": 48,
   "metadata": {},
   "outputs": [
    {
     "data": {
      "text/plain": [
       "0    -0.000132\n",
       "1     0.000928\n",
       "2    -0.001111\n",
       "3+    0.000315\n",
       "Name: mortgage_loans_cat, dtype: float64"
      ]
     },
     "execution_count": 48,
     "metadata": {},
     "output_type": "execute_result"
    }
   ],
   "source": [
    "Xy_train.mortgage_loans_cat.value_counts(normalize=True) - X_test.mortgage_loans_cat.value_counts(normalize=True)"
   ]
  },
  {
   "cell_type": "markdown",
   "metadata": {},
   "source": [
    "# Train-Valid split"
   ]
  },
  {
   "cell_type": "code",
   "execution_count": 49,
   "metadata": {},
   "outputs": [],
   "source": [
    "X_train_valid, y_train_valid = Xy_train.drop(columns=['family_members', 'target']), Xy_train['target']\n",
    "X_test = X_test.drop(columns=['index', 'family_members'])"
   ]
  },
  {
   "cell_type": "code",
   "execution_count": 50,
   "metadata": {},
   "outputs": [
    {
     "data": {
      "text/plain": [
       "((84076, 19), (21020, 19), (84076,), (21020,))"
      ]
     },
     "execution_count": 50,
     "metadata": {},
     "output_type": "execute_result"
    }
   ],
   "source": [
    "X_train, X_valid, y_train, y_valid = train_test_split(X_train_valid, y_train_valid, \n",
    "                                                      stratify=y_train_valid, test_size=0.2)\n",
    "X_train.shape, X_valid.shape, y_train.shape, y_valid.shape"
   ]
  },
  {
   "cell_type": "code",
   "execution_count": 51,
   "metadata": {},
   "outputs": [
    {
     "data": {
      "text/html": [
       "<div>\n",
       "<style scoped>\n",
       "    .dataframe tbody tr th:only-of-type {\n",
       "        vertical-align: middle;\n",
       "    }\n",
       "\n",
       "    .dataframe tbody tr th {\n",
       "        vertical-align: top;\n",
       "    }\n",
       "\n",
       "    .dataframe thead th {\n",
       "        text-align: right;\n",
       "    }\n",
       "</style>\n",
       "<table border=\"1\" class=\"dataframe\">\n",
       "  <thead>\n",
       "    <tr style=\"text-align: right;\">\n",
       "      <th></th>\n",
       "      <th>credit_card_utilization</th>\n",
       "      <th>age</th>\n",
       "      <th>overdue_30_59_days</th>\n",
       "      <th>debt_to_income</th>\n",
       "      <th>monthly_income</th>\n",
       "      <th>credits_loans</th>\n",
       "      <th>overdue__more_than_90_days</th>\n",
       "      <th>mortgage_loans</th>\n",
       "      <th>overdue_60_89_days</th>\n",
       "      <th>age_cat</th>\n",
       "      <th>family</th>\n",
       "      <th>cur</th>\n",
       "      <th>overdue_30_59</th>\n",
       "      <th>overdue_60_89</th>\n",
       "      <th>overdue_90_higher</th>\n",
       "      <th>monthly_debt</th>\n",
       "      <th>debt_to_income_rate</th>\n",
       "      <th>credits_loans_cat</th>\n",
       "      <th>mortgage_loans_cat</th>\n",
       "    </tr>\n",
       "  </thead>\n",
       "  <tbody>\n",
       "    <tr>\n",
       "      <th>32560</th>\n",
       "      <td>1.060891</td>\n",
       "      <td>69</td>\n",
       "      <td>0</td>\n",
       "      <td>0.412589</td>\n",
       "      <td>1390.594179</td>\n",
       "      <td>3</td>\n",
       "      <td>0</td>\n",
       "      <td>2</td>\n",
       "      <td>1</td>\n",
       "      <td>65_84</td>\n",
       "      <td>one</td>\n",
       "      <td>strange</td>\n",
       "      <td>0</td>\n",
       "      <td>1</td>\n",
       "      <td>0</td>\n",
       "      <td>573.743612</td>\n",
       "      <td>not_ok</td>\n",
       "      <td>3-5</td>\n",
       "      <td>2</td>\n",
       "    </tr>\n",
       "    <tr>\n",
       "      <th>47607</th>\n",
       "      <td>0.018324</td>\n",
       "      <td>52</td>\n",
       "      <td>0</td>\n",
       "      <td>0.283190</td>\n",
       "      <td>10541.362802</td>\n",
       "      <td>9</td>\n",
       "      <td>0</td>\n",
       "      <td>1</td>\n",
       "      <td>0</td>\n",
       "      <td>45_54</td>\n",
       "      <td>not</td>\n",
       "      <td>good</td>\n",
       "      <td>0</td>\n",
       "      <td>0</td>\n",
       "      <td>0</td>\n",
       "      <td>2985.211813</td>\n",
       "      <td>good</td>\n",
       "      <td>8-9</td>\n",
       "      <td>1</td>\n",
       "    </tr>\n",
       "    <tr>\n",
       "      <th>11586</th>\n",
       "      <td>0.050553</td>\n",
       "      <td>32</td>\n",
       "      <td>0</td>\n",
       "      <td>0.560016</td>\n",
       "      <td>3225.050340</td>\n",
       "      <td>6</td>\n",
       "      <td>0</td>\n",
       "      <td>2</td>\n",
       "      <td>0</td>\n",
       "      <td>25_34</td>\n",
       "      <td>not</td>\n",
       "      <td>good</td>\n",
       "      <td>0</td>\n",
       "      <td>0</td>\n",
       "      <td>0</td>\n",
       "      <td>1806.080233</td>\n",
       "      <td>bad</td>\n",
       "      <td>6-7</td>\n",
       "      <td>2</td>\n",
       "    </tr>\n",
       "    <tr>\n",
       "      <th>61137</th>\n",
       "      <td>0.502450</td>\n",
       "      <td>41</td>\n",
       "      <td>1</td>\n",
       "      <td>0.465524</td>\n",
       "      <td>4037.595174</td>\n",
       "      <td>10</td>\n",
       "      <td>0</td>\n",
       "      <td>1</td>\n",
       "      <td>0</td>\n",
       "      <td>35_44</td>\n",
       "      <td>two</td>\n",
       "      <td>ok</td>\n",
       "      <td>1</td>\n",
       "      <td>0</td>\n",
       "      <td>0</td>\n",
       "      <td>1879.595977</td>\n",
       "      <td>not_ok</td>\n",
       "      <td>10-11</td>\n",
       "      <td>1</td>\n",
       "    </tr>\n",
       "    <tr>\n",
       "      <th>12178</th>\n",
       "      <td>0.105071</td>\n",
       "      <td>66</td>\n",
       "      <td>0</td>\n",
       "      <td>0.052607</td>\n",
       "      <td>12029.920330</td>\n",
       "      <td>8</td>\n",
       "      <td>0</td>\n",
       "      <td>1</td>\n",
       "      <td>0</td>\n",
       "      <td>65_84</td>\n",
       "      <td>not</td>\n",
       "      <td>good</td>\n",
       "      <td>0</td>\n",
       "      <td>0</td>\n",
       "      <td>0</td>\n",
       "      <td>632.861205</td>\n",
       "      <td>good</td>\n",
       "      <td>8-9</td>\n",
       "      <td>1</td>\n",
       "    </tr>\n",
       "  </tbody>\n",
       "</table>\n",
       "</div>"
      ],
      "text/plain": [
       "       credit_card_utilization  age  overdue_30_59_days  debt_to_income  \\\n",
       "32560                 1.060891   69                   0        0.412589   \n",
       "47607                 0.018324   52                   0        0.283190   \n",
       "11586                 0.050553   32                   0        0.560016   \n",
       "61137                 0.502450   41                   1        0.465524   \n",
       "12178                 0.105071   66                   0        0.052607   \n",
       "\n",
       "       monthly_income  credits_loans  overdue__more_than_90_days  \\\n",
       "32560     1390.594179              3                           0   \n",
       "47607    10541.362802              9                           0   \n",
       "11586     3225.050340              6                           0   \n",
       "61137     4037.595174             10                           0   \n",
       "12178    12029.920330              8                           0   \n",
       "\n",
       "       mortgage_loans  overdue_60_89_days age_cat family      cur  \\\n",
       "32560               2                   1   65_84    one  strange   \n",
       "47607               1                   0   45_54    not     good   \n",
       "11586               2                   0   25_34    not     good   \n",
       "61137               1                   0   35_44    two       ok   \n",
       "12178               1                   0   65_84    not     good   \n",
       "\n",
       "      overdue_30_59 overdue_60_89 overdue_90_higher  monthly_debt  \\\n",
       "32560             0             1                 0    573.743612   \n",
       "47607             0             0                 0   2985.211813   \n",
       "11586             0             0                 0   1806.080233   \n",
       "61137             1             0                 0   1879.595977   \n",
       "12178             0             0                 0    632.861205   \n",
       "\n",
       "      debt_to_income_rate credits_loans_cat mortgage_loans_cat  \n",
       "32560              not_ok               3-5                  2  \n",
       "47607                good               8-9                  1  \n",
       "11586                 bad               6-7                  2  \n",
       "61137              not_ok             10-11                  1  \n",
       "12178                good               8-9                  1  "
      ]
     },
     "execution_count": 51,
     "metadata": {},
     "output_type": "execute_result"
    }
   ],
   "source": [
    "X_train.head()"
   ]
  },
  {
   "cell_type": "markdown",
   "metadata": {},
   "source": [
    "# Models"
   ]
  },
  {
   "cell_type": "markdown",
   "metadata": {},
   "source": [
    "## Gradient boosting (Yandex catboost)"
   ]
  },
  {
   "cell_type": "markdown",
   "metadata": {},
   "source": [
    "Firstly, try gradient boosting, I use yandex implementation as it has inbuilt preprocessing for categorical features, using powerful \"target encoding\" technique (I am lazy to do it by myself)."
   ]
  },
  {
   "cell_type": "code",
   "execution_count": 52,
   "metadata": {
    "scrolled": false
   },
   "outputs": [
    {
     "name": "stdout",
     "output_type": "stream",
     "text": [
      "0:\ttest: 0.8051314\tbest: 0.8051314 (0)\ttotal: 754ms\tremaining: 4m 23s\n",
      "200:\ttest: 0.8626636\tbest: 0.8627884 (182)\ttotal: 27.7s\tremaining: 20.5s\n",
      "349:\ttest: 0.8629369\tbest: 0.8630843 (307)\ttotal: 46.3s\tremaining: 0us\n",
      "\n",
      "bestTest = 0.8630843379\n",
      "bestIteration = 307\n",
      "\n",
      "Shrink model to first 308 iterations.\n"
     ]
    },
    {
     "data": {
      "text/plain": [
       "<catboost.core.CatBoostClassifier at 0x7fc3dd9ef640>"
      ]
     },
     "execution_count": 52,
     "metadata": {},
     "output_type": "execute_result"
    }
   ],
   "source": [
    "clf1 = CatBoostClassifier(cat_features=['age_cat', 'family', 'cur', 'overdue_30_59', 'overdue_60_89',\n",
    "                                        'overdue_90_higher', 'debt_to_income_rate', 'credits_loans_cat',\n",
    "                                        'mortgage_loans_cat'], eval_metric='AUC', random_state=42,\n",
    "                         allow_writing_files=False, verbose=200, eta=0.1, n_estimators=350)\n",
    "clf1.fit(X_train, y_train, eval_set=(X_valid, y_valid))"
   ]
  },
  {
   "cell_type": "code",
   "execution_count": 53,
   "metadata": {},
   "outputs": [
    {
     "data": {
      "text/plain": [
       "0.8740371340762312"
      ]
     },
     "execution_count": 53,
     "metadata": {},
     "output_type": "execute_result"
    }
   ],
   "source": [
    "roc_auc_score(y_score=clf1.predict_proba(X_train_valid)[:, 1], y_true=y_train_valid)"
   ]
  },
  {
   "cell_type": "code",
   "execution_count": 54,
   "metadata": {},
   "outputs": [],
   "source": [
    "# y_test_samp['target'] = clf1.predict_proba(X_test)[:, 1]\n",
    "# y_test_samp.to_csv('try_6.csv', header=True, index=False)"
   ]
  },
  {
   "cell_type": "markdown",
   "metadata": {},
   "source": [
    "This method gives me the first place on the public leaderboard and the second on the private one."
   ]
  },
  {
   "cell_type": "markdown",
   "metadata": {},
   "source": [
    "## Logistic Regression"
   ]
  },
  {
   "cell_type": "markdown",
   "metadata": {},
   "source": [
    "Also I have tried more interpreted linear model for prediction."
   ]
  },
  {
   "cell_type": "code",
   "execution_count": 55,
   "metadata": {},
   "outputs": [],
   "source": [
    "cat_cols = ['age_cat', 'family', 'cur', 'overdue_30_59', 'overdue_60_89', 'overdue_90_higher', \n",
    "            'debt_to_income_rate', 'credits_loans_cat', 'mortgage_loans_cat']"
   ]
  },
  {
   "cell_type": "code",
   "execution_count": 56,
   "metadata": {},
   "outputs": [],
   "source": [
    "ohe = OneHotEncoder(drop='first')\n",
    "X_train_valid_ohe = ohe.fit_transform(X_train_valid.loc[:, cat_cols])\n",
    "X_test_ohe = ohe.transform(X_test.loc[:, cat_cols])"
   ]
  },
  {
   "cell_type": "code",
   "execution_count": 57,
   "metadata": {},
   "outputs": [],
   "source": [
    "clf2 = LogisticRegressionCV(Cs=10).fit(X_train_valid_ohe, y_train_valid)"
   ]
  },
  {
   "cell_type": "code",
   "execution_count": 58,
   "metadata": {},
   "outputs": [
    {
     "data": {
      "text/plain": [
       "0.8577406291553656"
      ]
     },
     "execution_count": 58,
     "metadata": {},
     "output_type": "execute_result"
    }
   ],
   "source": [
    "roc_auc_score(y_score=clf2.predict_proba(X_train_valid_ohe)[:, 1], y_true=y_train_valid)"
   ]
  },
  {
   "cell_type": "code",
   "execution_count": 59,
   "metadata": {},
   "outputs": [],
   "source": [
    "# y_test_samp['target'] = clf2.predict_proba(X_test_ohe)[:, 1]\n",
    "# y_test_samp.to_csv('try_6.csv', header=True, index=False)"
   ]
  },
  {
   "cell_type": "markdown",
   "metadata": {},
   "source": [
    "It gives slightly worse results but can be useful (see discusion further)."
   ]
  },
  {
   "cell_type": "markdown",
   "metadata": {},
   "source": [
    "# Ideas for improving score"
   ]
  },
  {
   "cell_type": "markdown",
   "metadata": {},
   "source": [
    "It's not so interesting to implement these ideas after the competition end, but I decided it's important to mention them:\n",
    "\n",
    "- hyperparameter tuning: we have a wide field for tuning catboost parameters and also we can try to tune more subtly C parameter of logistic regression, for example, with hyperopt.\n",
    "\n",
    "- stacking: when we already choose the best parameters for models above, we can unite them and it's very likely to be a great idea due to their diversity. Also we can add k nearest neighbors, random forest and neural net models to them to make stacking technique more stronger.\n",
    "\n",
    "- advanced feature engineering: I could miss some details, maybe, some interactions of features, which can add useful information for prediction, and after adding them we can tune parameters and stack models again."
   ]
  },
  {
   "cell_type": "markdown",
   "metadata": {},
   "source": [
    "# That's all :)"
   ]
  }
 ],
 "metadata": {
  "kernelspec": {
   "display_name": "Python 3",
   "language": "python",
   "name": "python3"
  },
  "language_info": {
   "codemirror_mode": {
    "name": "ipython",
    "version": 3
   },
   "file_extension": ".py",
   "mimetype": "text/x-python",
   "name": "python",
   "nbconvert_exporter": "python",
   "pygments_lexer": "ipython3",
   "version": "3.8.1"
  }
 },
 "nbformat": 4,
 "nbformat_minor": 4
}
